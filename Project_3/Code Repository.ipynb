{
 "cells": [
  {
   "cell_type": "code",
   "execution_count": 40,
   "id": "inappropriate-battlefield",
   "metadata": {},
   "outputs": [],
   "source": [
    "from nltk.tag import pos_tag\n",
    "from nltk.stem import WordNetLemmatizer\n",
    "from nltk.corpus import wordnet"
   ]
  },
  {
   "cell_type": "code",
   "execution_count": 41,
   "id": "cultural-tribune",
   "metadata": {},
   "outputs": [
    {
     "name": "stderr",
     "output_type": "stream",
     "text": [
      "[nltk_data] Downloading package averaged_perceptron_tagger to\n",
      "[nltk_data]     /Users/jeffersonqiu/nltk_data...\n",
      "[nltk_data]   Package averaged_perceptron_tagger is already up-to-\n",
      "[nltk_data]       date!\n"
     ]
    },
    {
     "data": {
      "text/plain": [
       "True"
      ]
     },
     "execution_count": 41,
     "metadata": {},
     "output_type": "execute_result"
    }
   ],
   "source": [
    "nltk.download('averaged_perceptron_tagger')"
   ]
  },
  {
   "cell_type": "code",
   "execution_count": 42,
   "id": "cardiovascular-ordering",
   "metadata": {},
   "outputs": [
    {
     "data": {
      "text/plain": [
       "[('hi', 'VB'),\n",
       " ('how', 'WRB'),\n",
       " ('look', 'VB'),\n",
       " ('stone', 'JJ'),\n",
       " ('see you la', 'NN'),\n",
       " ('sight', 'NN'),\n",
       " ('dropped', 'VBD')]"
      ]
     },
     "execution_count": 42,
     "metadata": {},
     "output_type": "execute_result"
    }
   ],
   "source": [
    "pos_tag(['hi', 'how', 'look', 'stone', 'see you la', 'sight', 'dropped'])"
   ]
  },
  {
   "cell_type": "code",
   "execution_count": 46,
   "id": "antique-chassis",
   "metadata": {},
   "outputs": [],
   "source": [
    "def wordnet_func(pos_tag):\n",
    "    treebank_tag = pos_tag[0][1]\n",
    "    print(treebank_tag)\n",
    "    if treebank_tag.startswith('J'):\n",
    "        return wordnet.ADJ\n",
    "    elif treebank_tag.startswith('V'):\n",
    "        return wordnet.VERB\n",
    "    elif treebank_tag.startswith('N'):\n",
    "        return wordnet.NOUN\n",
    "    elif treebank_tag.startswith('R'):\n",
    "        return wordnet.ADV\n",
    "    else:\n",
    "        return ''"
   ]
  },
  {
   "cell_type": "code",
   "execution_count": 47,
   "id": "difficult-maine",
   "metadata": {},
   "outputs": [
    {
     "name": "stdout",
     "output_type": "stream",
     "text": [
      "NN\n"
     ]
    },
    {
     "data": {
      "text/plain": [
       "'n'"
      ]
     },
     "execution_count": 47,
     "metadata": {},
     "output_type": "execute_result"
    }
   ],
   "source": [
    "wordnet_func(pos_tag('hi'))"
   ]
  },
  {
   "cell_type": "code",
   "execution_count": 43,
   "id": "brief-demonstration",
   "metadata": {},
   "outputs": [
    {
     "data": {
      "text/plain": [
       "'drop'"
      ]
     },
     "execution_count": 43,
     "metadata": {},
     "output_type": "execute_result"
    }
   ],
   "source": [
    "lemmatizer = WordNetLemmatizer()\n",
    "lemmatizer.lemmatize('dropped', wordnet.VERB)"
   ]
  },
  {
   "cell_type": "code",
   "execution_count": 44,
   "id": "fresh-chinese",
   "metadata": {},
   "outputs": [
    {
     "data": {
      "text/plain": [
       "'dropped'"
      ]
     },
     "execution_count": 44,
     "metadata": {},
     "output_type": "execute_result"
    }
   ],
   "source": [
    "lemmatizer.lemmatize('dropped', wordnet.NOUN)"
   ]
  },
  {
   "cell_type": "code",
   "execution_count": 45,
   "id": "forward-reference",
   "metadata": {},
   "outputs": [
    {
     "data": {
      "text/plain": [
       "'dropped'"
      ]
     },
     "execution_count": 45,
     "metadata": {},
     "output_type": "execute_result"
    }
   ],
   "source": [
    "lemmatizer.lemmatize('dropped')"
   ]
  },
  {
   "cell_type": "code",
   "execution_count": 24,
   "id": "subtle-november",
   "metadata": {},
   "outputs": [
    {
     "data": {
      "text/plain": [
       "[('hi', 'NN')]"
      ]
     },
     "execution_count": 24,
     "metadata": {},
     "output_type": "execute_result"
    }
   ],
   "source": [
    "pos_tag(['hi'])"
   ]
  },
  {
   "cell_type": "code",
   "execution_count": 7,
   "id": "charitable-writing",
   "metadata": {},
   "outputs": [
    {
     "ename": "TypeError",
     "evalue": "pos_tag() missing 1 required positional argument: 'tokens'",
     "output_type": "error",
     "traceback": [
      "\u001b[0;31m---------------------------------------------------------------------------\u001b[0m",
      "\u001b[0;31mTypeError\u001b[0m                                 Traceback (most recent call last)",
      "\u001b[0;32m<ipython-input-7-3ca524893315>\u001b[0m in \u001b[0;36m<module>\u001b[0;34m\u001b[0m\n\u001b[0;32m----> 1\u001b[0;31m \u001b[0mnltk\u001b[0m\u001b[0;34m.\u001b[0m\u001b[0mpos_tag\u001b[0m\u001b[0;34m(\u001b[0m\u001b[0;34m)\u001b[0m\u001b[0;34m\u001b[0m\u001b[0;34m\u001b[0m\u001b[0m\n\u001b[0m",
      "\u001b[0;31mTypeError\u001b[0m: pos_tag() missing 1 required positional argument: 'tokens'"
     ]
    }
   ],
   "source": [
    "nltk.pos_tag()"
   ]
  },
  {
   "cell_type": "code",
   "execution_count": 5,
   "id": "residential-video",
   "metadata": {},
   "outputs": [
    {
     "ename": "AttributeError",
     "evalue": "module 'nltk.tag' has no attribute '_POS_TAGGER'",
     "output_type": "error",
     "traceback": [
      "\u001b[0;31m---------------------------------------------------------------------------\u001b[0m",
      "\u001b[0;31mAttributeError\u001b[0m                            Traceback (most recent call last)",
      "\u001b[0;32m<ipython-input-5-70b107e26005>\u001b[0m in \u001b[0;36m<module>\u001b[0;34m\u001b[0m\n\u001b[0;32m----> 1\u001b[0;31m \u001b[0mnltk\u001b[0m\u001b[0;34m.\u001b[0m\u001b[0mtag\u001b[0m\u001b[0;34m.\u001b[0m\u001b[0m_POS_TAGGER\u001b[0m\u001b[0;34m\u001b[0m\u001b[0;34m\u001b[0m\u001b[0m\n\u001b[0m",
      "\u001b[0;31mAttributeError\u001b[0m: module 'nltk.tag' has no attribute '_POS_TAGGER'"
     ]
    }
   ],
   "source": [
    "nltk.tag._POS_TAGGER"
   ]
  },
  {
   "cell_type": "code",
   "execution_count": null,
   "id": "accessible-serve",
   "metadata": {},
   "outputs": [],
   "source": [
    "## This function will be called within the 'convert' function to be passed as an argument to CountVectorizer tokenizer argument\n",
    "def lemmatizer_func(word):\n",
    "    # Obtain the part of speech tagging based on wordnet\n",
    "    postag = pos_tag([word])[0][1]  \n",
    "    if postag.startswith('J'):      # for Adjective\n",
    "        wordnet_tag = 'r'\n",
    "    elif postag.startswith('V'):    # for Verb\n",
    "        wordnet_tag = 'v'\n",
    "    elif postag.startswith('N'):    # for Noun\n",
    "        wordnet_tag = 'n'\n",
    "    elif postag.startswith('R'):    # for Adverb\n",
    "        wordnet_tag = 'a'\n",
    "    else:\n",
    "        wordnet_tag = 'n'\n",
    "    return lemmatizer.lemmatize(word, wordnet_tag)"
   ]
  }
 ],
 "metadata": {
  "kernelspec": {
   "display_name": "Python 3",
   "language": "python",
   "name": "python3"
  },
  "language_info": {
   "codemirror_mode": {
    "name": "ipython",
    "version": 3
   },
   "file_extension": ".py",
   "mimetype": "text/x-python",
   "name": "python",
   "nbconvert_exporter": "python",
   "pygments_lexer": "ipython3",
   "version": "3.8.8"
  },
  "toc": {
   "base_numbering": 1,
   "nav_menu": {},
   "number_sections": true,
   "sideBar": true,
   "skip_h1_title": false,
   "title_cell": "Table of Contents",
   "title_sidebar": "Contents",
   "toc_cell": false,
   "toc_position": {},
   "toc_section_display": true,
   "toc_window_display": false
  }
 },
 "nbformat": 4,
 "nbformat_minor": 5
}
