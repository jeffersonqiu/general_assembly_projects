{
 "cells": [
  {
   "cell_type": "code",
   "execution_count": 10,
   "id": "amended-excellence",
   "metadata": {},
   "outputs": [],
   "source": [
    "import pandas as pd\n",
    "import numpy as np\n",
    "import seaborn as sns\n",
    "import matplotlib.pyplot as plt\n",
    "from sklearn.model_selection import train_test_split, cross_val_score\n",
    "from sklearn.preprocessing import StandardScaler, PolynomialFeatures, OrdinalEncoder\n",
    "from sklearn.linear_model import LinearRegression, Ridge, RidgeCV, Lasso, LassoCV, ElasticNet, ElasticNetCV\n",
    "from scipy.stats import chi2_contingency\n",
    "import time"
   ]
  },
  {
   "cell_type": "code",
   "execution_count": 3,
   "id": "minute-stationery",
   "metadata": {},
   "outputs": [
    {
     "data": {
      "text/html": [
       "<div>\n",
       "<style scoped>\n",
       "    .dataframe tbody tr th:only-of-type {\n",
       "        vertical-align: middle;\n",
       "    }\n",
       "\n",
       "    .dataframe tbody tr th {\n",
       "        vertical-align: top;\n",
       "    }\n",
       "\n",
       "    .dataframe thead th {\n",
       "        text-align: right;\n",
       "    }\n",
       "</style>\n",
       "<table border=\"1\" class=\"dataframe\">\n",
       "  <thead>\n",
       "    <tr style=\"text-align: right;\">\n",
       "      <th></th>\n",
       "      <th>Id</th>\n",
       "      <th>PID</th>\n",
       "      <th>MS SubClass</th>\n",
       "      <th>MS Zoning</th>\n",
       "      <th>Lot Frontage</th>\n",
       "      <th>Lot Area</th>\n",
       "      <th>Street</th>\n",
       "      <th>Alley</th>\n",
       "      <th>Lot Shape</th>\n",
       "      <th>Land Contour</th>\n",
       "      <th>...</th>\n",
       "      <th>Screen Porch</th>\n",
       "      <th>Pool Area</th>\n",
       "      <th>Pool QC</th>\n",
       "      <th>Fence</th>\n",
       "      <th>Misc Feature</th>\n",
       "      <th>Misc Val</th>\n",
       "      <th>Mo Sold</th>\n",
       "      <th>Yr Sold</th>\n",
       "      <th>Sale Type</th>\n",
       "      <th>SalePrice</th>\n",
       "    </tr>\n",
       "  </thead>\n",
       "  <tbody>\n",
       "    <tr>\n",
       "      <th>0</th>\n",
       "      <td>109</td>\n",
       "      <td>533352170</td>\n",
       "      <td>60</td>\n",
       "      <td>RL</td>\n",
       "      <td>NaN</td>\n",
       "      <td>13517</td>\n",
       "      <td>Pave</td>\n",
       "      <td>NaN</td>\n",
       "      <td>IR1</td>\n",
       "      <td>Lvl</td>\n",
       "      <td>...</td>\n",
       "      <td>0</td>\n",
       "      <td>0</td>\n",
       "      <td>NaN</td>\n",
       "      <td>NaN</td>\n",
       "      <td>NaN</td>\n",
       "      <td>0</td>\n",
       "      <td>3</td>\n",
       "      <td>2010</td>\n",
       "      <td>WD</td>\n",
       "      <td>130500</td>\n",
       "    </tr>\n",
       "    <tr>\n",
       "      <th>1</th>\n",
       "      <td>544</td>\n",
       "      <td>531379050</td>\n",
       "      <td>60</td>\n",
       "      <td>RL</td>\n",
       "      <td>43.0</td>\n",
       "      <td>11492</td>\n",
       "      <td>Pave</td>\n",
       "      <td>NaN</td>\n",
       "      <td>IR1</td>\n",
       "      <td>Lvl</td>\n",
       "      <td>...</td>\n",
       "      <td>0</td>\n",
       "      <td>0</td>\n",
       "      <td>NaN</td>\n",
       "      <td>NaN</td>\n",
       "      <td>NaN</td>\n",
       "      <td>0</td>\n",
       "      <td>4</td>\n",
       "      <td>2009</td>\n",
       "      <td>WD</td>\n",
       "      <td>220000</td>\n",
       "    </tr>\n",
       "    <tr>\n",
       "      <th>2</th>\n",
       "      <td>153</td>\n",
       "      <td>535304180</td>\n",
       "      <td>20</td>\n",
       "      <td>RL</td>\n",
       "      <td>68.0</td>\n",
       "      <td>7922</td>\n",
       "      <td>Pave</td>\n",
       "      <td>NaN</td>\n",
       "      <td>Reg</td>\n",
       "      <td>Lvl</td>\n",
       "      <td>...</td>\n",
       "      <td>0</td>\n",
       "      <td>0</td>\n",
       "      <td>NaN</td>\n",
       "      <td>NaN</td>\n",
       "      <td>NaN</td>\n",
       "      <td>0</td>\n",
       "      <td>1</td>\n",
       "      <td>2010</td>\n",
       "      <td>WD</td>\n",
       "      <td>109000</td>\n",
       "    </tr>\n",
       "    <tr>\n",
       "      <th>3</th>\n",
       "      <td>318</td>\n",
       "      <td>916386060</td>\n",
       "      <td>60</td>\n",
       "      <td>RL</td>\n",
       "      <td>73.0</td>\n",
       "      <td>9802</td>\n",
       "      <td>Pave</td>\n",
       "      <td>NaN</td>\n",
       "      <td>Reg</td>\n",
       "      <td>Lvl</td>\n",
       "      <td>...</td>\n",
       "      <td>0</td>\n",
       "      <td>0</td>\n",
       "      <td>NaN</td>\n",
       "      <td>NaN</td>\n",
       "      <td>NaN</td>\n",
       "      <td>0</td>\n",
       "      <td>4</td>\n",
       "      <td>2010</td>\n",
       "      <td>WD</td>\n",
       "      <td>174000</td>\n",
       "    </tr>\n",
       "    <tr>\n",
       "      <th>4</th>\n",
       "      <td>255</td>\n",
       "      <td>906425045</td>\n",
       "      <td>50</td>\n",
       "      <td>RL</td>\n",
       "      <td>82.0</td>\n",
       "      <td>14235</td>\n",
       "      <td>Pave</td>\n",
       "      <td>NaN</td>\n",
       "      <td>IR1</td>\n",
       "      <td>Lvl</td>\n",
       "      <td>...</td>\n",
       "      <td>0</td>\n",
       "      <td>0</td>\n",
       "      <td>NaN</td>\n",
       "      <td>NaN</td>\n",
       "      <td>NaN</td>\n",
       "      <td>0</td>\n",
       "      <td>3</td>\n",
       "      <td>2010</td>\n",
       "      <td>WD</td>\n",
       "      <td>138500</td>\n",
       "    </tr>\n",
       "  </tbody>\n",
       "</table>\n",
       "<p>5 rows × 81 columns</p>\n",
       "</div>"
      ],
      "text/plain": [
       "    Id        PID  MS SubClass MS Zoning  Lot Frontage  Lot Area Street Alley  \\\n",
       "0  109  533352170           60        RL           NaN     13517   Pave   NaN   \n",
       "1  544  531379050           60        RL          43.0     11492   Pave   NaN   \n",
       "2  153  535304180           20        RL          68.0      7922   Pave   NaN   \n",
       "3  318  916386060           60        RL          73.0      9802   Pave   NaN   \n",
       "4  255  906425045           50        RL          82.0     14235   Pave   NaN   \n",
       "\n",
       "  Lot Shape Land Contour  ... Screen Porch Pool Area Pool QC Fence  \\\n",
       "0       IR1          Lvl  ...            0         0     NaN   NaN   \n",
       "1       IR1          Lvl  ...            0         0     NaN   NaN   \n",
       "2       Reg          Lvl  ...            0         0     NaN   NaN   \n",
       "3       Reg          Lvl  ...            0         0     NaN   NaN   \n",
       "4       IR1          Lvl  ...            0         0     NaN   NaN   \n",
       "\n",
       "  Misc Feature Misc Val Mo Sold Yr Sold  Sale Type  SalePrice  \n",
       "0          NaN        0       3    2010        WD      130500  \n",
       "1          NaN        0       4    2009        WD      220000  \n",
       "2          NaN        0       1    2010        WD      109000  \n",
       "3          NaN        0       4    2010        WD      174000  \n",
       "4          NaN        0       3    2010        WD      138500  \n",
       "\n",
       "[5 rows x 81 columns]"
      ]
     },
     "execution_count": 3,
     "metadata": {},
     "output_type": "execute_result"
    }
   ],
   "source": [
    "ames = pd.read_csv('datasets/train.csv')\n",
    "ames.head()"
   ]
  },
  {
   "cell_type": "code",
   "execution_count": 7,
   "id": "steady-therapy",
   "metadata": {},
   "outputs": [],
   "source": [
    "x = ames['MS Zoning']"
   ]
  },
  {
   "cell_type": "code",
   "execution_count": 8,
   "id": "variable-circus",
   "metadata": {},
   "outputs": [],
   "source": [
    "y = ames['Street']"
   ]
  },
  {
   "cell_type": "code",
   "execution_count": 12,
   "id": "visible-economics",
   "metadata": {},
   "outputs": [
    {
     "data": {
      "text/html": [
       "<div>\n",
       "<style scoped>\n",
       "    .dataframe tbody tr th:only-of-type {\n",
       "        vertical-align: middle;\n",
       "    }\n",
       "\n",
       "    .dataframe tbody tr th {\n",
       "        vertical-align: top;\n",
       "    }\n",
       "\n",
       "    .dataframe thead th {\n",
       "        text-align: right;\n",
       "    }\n",
       "</style>\n",
       "<table border=\"1\" class=\"dataframe\">\n",
       "  <thead>\n",
       "    <tr style=\"text-align: right;\">\n",
       "      <th>Street</th>\n",
       "      <th>Grvl</th>\n",
       "      <th>Pave</th>\n",
       "    </tr>\n",
       "    <tr>\n",
       "      <th>MS Zoning</th>\n",
       "      <th></th>\n",
       "      <th></th>\n",
       "    </tr>\n",
       "  </thead>\n",
       "  <tbody>\n",
       "    <tr>\n",
       "      <th>A (agr)</th>\n",
       "      <td>0</td>\n",
       "      <td>2</td>\n",
       "    </tr>\n",
       "    <tr>\n",
       "      <th>C (all)</th>\n",
       "      <td>3</td>\n",
       "      <td>16</td>\n",
       "    </tr>\n",
       "    <tr>\n",
       "      <th>FV</th>\n",
       "      <td>0</td>\n",
       "      <td>101</td>\n",
       "    </tr>\n",
       "    <tr>\n",
       "      <th>I (all)</th>\n",
       "      <td>1</td>\n",
       "      <td>0</td>\n",
       "    </tr>\n",
       "    <tr>\n",
       "      <th>RH</th>\n",
       "      <td>0</td>\n",
       "      <td>14</td>\n",
       "    </tr>\n",
       "    <tr>\n",
       "      <th>RL</th>\n",
       "      <td>2</td>\n",
       "      <td>1596</td>\n",
       "    </tr>\n",
       "    <tr>\n",
       "      <th>RM</th>\n",
       "      <td>1</td>\n",
       "      <td>315</td>\n",
       "    </tr>\n",
       "  </tbody>\n",
       "</table>\n",
       "</div>"
      ],
      "text/plain": [
       "Street     Grvl  Pave\n",
       "MS Zoning            \n",
       "A (agr)       0     2\n",
       "C (all)       3    16\n",
       "FV            0   101\n",
       "I (all)       1     0\n",
       "RH            0    14\n",
       "RL            2  1596\n",
       "RM            1   315"
      ]
     },
     "execution_count": 12,
     "metadata": {},
     "output_type": "execute_result"
    }
   ],
   "source": [
    "cm = pd.crosstab(x,y)\n",
    "cm"
   ]
  },
  {
   "cell_type": "code",
   "execution_count": 13,
   "id": "green-suicide",
   "metadata": {},
   "outputs": [
    {
     "data": {
      "text/plain": [
       "(427.91055121232523,\n",
       " 2.7802256790878933e-89,\n",
       " 6,\n",
       " array([[6.82593857e-03, 1.99317406e+00],\n",
       "        [6.48464164e-02, 1.89351536e+01],\n",
       "        [3.44709898e-01, 1.00655290e+02],\n",
       "        [3.41296928e-03, 9.96587031e-01],\n",
       "        [4.77815700e-02, 1.39522184e+01],\n",
       "        [5.45392491e+00, 1.59254608e+03],\n",
       "        [1.07849829e+00, 3.14921502e+02]]))"
      ]
     },
     "execution_count": 13,
     "metadata": {},
     "output_type": "execute_result"
    }
   ],
   "source": [
    "chi2 = chi2_contingency(cm)\n",
    "chi2"
   ]
  },
  {
   "cell_type": "code",
   "execution_count": 15,
   "id": "sublime-pound",
   "metadata": {},
   "outputs": [
    {
     "data": {
      "text/plain": [
       "427.91055121232523"
      ]
     },
     "execution_count": 15,
     "metadata": {},
     "output_type": "execute_result"
    }
   ],
   "source": [
    "chi2[0]"
   ]
  },
  {
   "cell_type": "code",
   "execution_count": 26,
   "id": "sharing-chile",
   "metadata": {},
   "outputs": [
    {
     "data": {
      "text/plain": [
       "2051"
      ]
     },
     "execution_count": 26,
     "metadata": {},
     "output_type": "execute_result"
    }
   ],
   "source": [
    "n = cm.sum().sum()\n",
    "n"
   ]
  },
  {
   "cell_type": "code",
   "execution_count": 20,
   "id": "outstanding-death",
   "metadata": {},
   "outputs": [
    {
     "data": {
      "text/plain": [
       "0.2086350810396515"
      ]
     },
     "execution_count": 20,
     "metadata": {},
     "output_type": "execute_result"
    }
   ],
   "source": [
    "phi2 = chi2[0]/n\n",
    "phi2"
   ]
  },
  {
   "cell_type": "code",
   "execution_count": 21,
   "id": "apparent-advocacy",
   "metadata": {},
   "outputs": [
    {
     "data": {
      "text/plain": [
       "(7, 2)"
      ]
     },
     "execution_count": 21,
     "metadata": {},
     "output_type": "execute_result"
    }
   ],
   "source": [
    "cm.shape"
   ]
  },
  {
   "cell_type": "code",
   "execution_count": null,
   "id": "permanent-margin",
   "metadata": {},
   "outputs": [],
   "source": [
    "def cramers_v(x, y):\n",
    "    confusion_matrix = pd.crosstab(x,y)\n",
    "    chi2 = chi2_contingency(confusion_matrix)[0]\n",
    "    n = confusion_matrix.sum().sum()\n",
    "    phi2 = chi2/n\n",
    "    r,k = confusion_matrix.shape\n",
    "    phi2corr = max(0, phi2-((k-1)*(r-1))/(n-1))\n",
    "    rcorr = r-((r-1)**2)/(n-1)\n",
    "    kcorr = k-((k-1)**2)/(n-1)\n",
    "    return np.sqrt(phi2corr/min((kcorr-1),(rcorr-1)))"
   ]
  },
  {
   "cell_type": "code",
   "execution_count": null,
   "id": "particular-proportion",
   "metadata": {},
   "outputs": [],
   "source": [
    "def cramers_V(var1,var2) :\n",
    "    crosstab = np.array(pd.crosstab(var1,var2, rownames=None, colnames=None)) # Cross table building\n",
    "    stat = chi2_contingency(crosstab)[0] # Keeping of the test statistic of the Chi2 test\n",
    "    obs = np.sum(crosstab) # Number of observations\n",
    "    mini = min(crosstab.shape)-1 # Take the minimum value between the columns and the rows of the cross table\n",
    "    return (stat/(obs*mini))"
   ]
  },
  {
   "cell_type": "code",
   "execution_count": null,
   "id": "eastern-documentary",
   "metadata": {},
   "outputs": [],
   "source": []
  },
  {
   "cell_type": "code",
   "execution_count": null,
   "id": "crude-priority",
   "metadata": {},
   "outputs": [],
   "source": []
  },
  {
   "cell_type": "code",
   "execution_count": null,
   "id": "multiple-lodge",
   "metadata": {},
   "outputs": [],
   "source": []
  },
  {
   "cell_type": "markdown",
   "id": "boxed-laptop",
   "metadata": {},
   "source": [
    "| Model No. | Parameters                                                                                                                                                                                                                                                                                                                         | Selected Features                                                                                                                                                                                                                                                                                                                                                                                                                                                                                                                                                                                                                                                                                                                                                                                                                                                                                                                                                                                                                                                                                                                                        | Validation                                                                                             | Kaggle Result                                                            |\n",
    "|-----------|------------------------------------------------------------------------------------------------------------------------------------------------------------------------------------------------------------------------------------------------------------------------------------------------------------------------------------|----------------------------------------------------------------------------------------------------------------------------------------------------------------------------------------------------------------------------------------------------------------------------------------------------------------------------------------------------------------------------------------------------------------------------------------------------------------------------------------------------------------------------------------------------------------------------------------------------------------------------------------------------------------------------------------------------------------------------------------------------------------------------------------------------------------------------------------------------------------------------------------------------------------------------------------------------------------------------------------------------------------------------------------------------------------------------------------------------------------------------------------------------------|--------------------------------------------------------------------------------------------------------|--------------------------------------------------------------------------|\n",
    "| 1         | **Data Cleaning**<br>maj_threshold = 90%<br>mul_threshold_init = 90%<br>mul_threshold_final = 90%<br><br>**Additional Features**<br>*Root terms*<br>root_variable = False<br>root_after_pf = False<br><br>*Log terms*<br>log_variable = False<br>log_after_pf = False<br><br>*Polynomial features*<br>poly_on = False              | **30 Selected Features are:**<br>['Overall Qual', 'Neighborhood', 'Exter Qual', 'Gr Liv Area',<br>       'Kitchen Qual', 'Bsmt Qual', 'Garage Area', 'Garage Cars',<br>       'Total Bsmt SF', '1st Flr SF', 'Year Built', 'Garage Finish',<br>       'Year Remod/Add', 'Fireplace Qu', 'Full Bath', 'Foundation',<br>       'TotRms AbvGrd', 'Garage Type', 'Mas Vnr Area', 'MS SubClass',<br>       'Fireplaces', 'Heating QC', 'Mas Vnr Type', 'Bsmt Exposure',<br>       'BsmtFin SF 1', 'Exterior 1st', 'BsmtFin Type 1', 'Exterior 2nd',<br>       'Sale Type', 'Open Porch SF']                                                                                                                                                                                                                                                                                                                                                                                                                                                                                                                                                                   | **Best model:**<br>- Lasso(alpha=1018.9)<br><br>**Validation set RMSE:**<br>- Validation set: 36,959.6 | **Actual RMSE from Kaggle**<br>- Private: 32,865.0<br>- Public: 32,689.3 |\n",
    "| 2         | **Data Cleaning**<br>maj_threshold = 90%<br>mul_threshold_init = 90%<br>mul_threshold_final = 90%<br><br>**Additional Features**<br>*Root terms*<br>root_variable = False<br>root_after_pf = False<br><br>*Log terms*<br>log_variable = False<br>log_after_pf = False<br><br>*Polynomial features*<br>poly_on = **True**           | **30 Selected Features are:**<br>['Neighborhood Gr Liv Area', 'Overall Qual Gr Liv Area',<br>       'Overall Qual^2', 'Exter Qual Gr Liv Area',<br>       'Neighborhood 1st Flr SF', 'Overall Qual Garage Cars',<br>       'Gr Liv Area Kitchen Qual', 'Gr Liv Area Garage Cars',<br>       'Overall Qual 1st Flr SF', '1st Flr SF Kitchen Qual',<br>       'Total Bsmt SF Garage Cars', 'Neighborhood Fireplace Qu',<br>       'Neighborhood Garage Finish', 'Full Bath Kitchen Qual',<br>       'Overall Qual Full Bath', 'Foundation Gr Liv Area',<br>       'Exter Qual Fireplace Qu', 'MS Zoning Overall Qual',<br>       'Exter Qual Garage Type', 'Kitchen Qual Garage Type',<br>       'Exter Qual Full Bath', 'Heating QC Gr Liv Area',<br>       'Garage Type Garage Area', 'Kitchen Qual Garage Finish',<br>       'Gr Liv Area Garage Type', 'Overall Qual Garage Qual',<br>       'Fireplace Qu Garage Area', 'Gr Liv Area Garage Finish',<br>       'Overall Qual Garage Type', 'MS SubClass Kitchen Qual']                                                                                                                                | **Best model:**<br>- Lasso(alpha=1010.5)<br><br>**Validation set RMSE:**<br>- Validation set: 33,178.6 | **Actual RMSE from Kaggle**<br>- Private: 30,041.4<br>- Public: 28,955.5 |\n",
    "| 3         | **Data Cleaning**<br>maj_threshold = 90%<br>mul_threshold_init = 90%<br>mul_threshold_final = 90%<br><br>**Additional Features**<br>*Root terms*<br>root_variable = **True**<br>root_after_pf = False<br><br>*Log terms*<br>log_variable = False<br>log_after_pf = False<br><br>*Polynomial features*<br>poly_on = False           | **30 Selected Features are:**<br>['Overall Qual', 'Neighborhood', 'Exter Qual', 'Gr Liv Area_root',<br>       'Kitchen Qual', 'Bsmt Qual', 'Garage Area', 'Garage Cars',<br>       'Total Bsmt SF', '1st Flr SF_root', 'Year Built', 'Garage Finish',<br>       'Year Remod/Add', 'Fireplace Qu', 'Full Bath', 'Foundation',<br>       'TotRms AbvGrd', 'Garage Type', 'Mas Vnr Area', 'Fireplaces_root',<br>       'MS SubClass', 'Heating QC', 'Mas Vnr Type', 'Open Porch SF_root',<br>       'Bsmt Exposure', 'BsmtFin SF 1', 'Exterior 1st', 'BsmtFin Type 1',<br>       'Exterior 2nd', 'Sale Type']                                                                                                                                                                                                                                                                                                                                                                                                                                                                                                                                               | **Best model:**<br>- Lasso(alpha=245.5)<br><br>**Validation set RMSE:**<br>- Validation set: 35,426.6  | **Actual RMSE from Kaggle**<br>- Private: 33,145.0<br>- Public: 33,773.1 |\n",
    "| 4         | **Data Cleaning**<br>maj_threshold = 90%<br>mul_threshold_init = 90%<br>mul_threshold_final = 90%<br><br>**Additional Features**<br>*Root terms*<br>root_variable = **True**<br>root_after_pf = False<br><br>*Log terms*<br>log_variable = False<br>log_after_pf = False<br><br>*Polynomial features*<br>poly_on = **True**        | **30 Selected Features are:**<br>['Overall Qual Gr Liv Area_root', 'Neighborhood Gr Liv Area',<br>       'Overall Qual 1st Flr SF_root', 'Exter Qual Gr Liv Area',<br>       'Neighborhood 1st Flr SF', 'Overall Qual Garage Cars',<br>       'Gr Liv Area Kitchen Qual', 'Gr Liv Area Garage Cars',<br>       'Bsmt Qual 1st Flr SF_root', 'Overall Qual Lot Frontage_root',<br>       'Overall Qual Garage Type_root', 'Exter Qual Fireplace Qu_root',<br>       'Total Bsmt SF Garage Cars', 'Overall Qual Sale Type_root',<br>       'Overall Qual Lot Area_root', 'Kitchen Qual Fireplace Qu_root',<br>       'Overall Qual Fireplace Qu_root',<br>       'Overall Qual Garage Finish_root', 'Exter Qual Lot Area_root',<br>       'Garage Area Fireplace Qu_root', 'Overall Qual MS SubClass_root',<br>       'Neighborhood Bsmt Exposure_root', 'Garage Type Garage Area',<br>       'Gr Liv Area MS SubClass_root', 'Overall Qual Mas Vnr Type_root',<br>       'Gr Liv Area Mas Vnr Type_root', 'Kitchen Qual Lot Area_root',<br>       'Gr Liv Area Bsmt Exposure_root', 'Gr Liv Area Fireplace Qu_root',<br>       'MS SubClass Garage Area'] | **Best model:**<br>- Lasso(alpha=871.2)<br><br>**Validation set RMSE:**<br>- Validation set: 33,178.2  | **Actual RMSE from Kaggle**<br>- Private: 29,442.0<br>- Public: 28,684.8 |\n",
    "| 5         | **Data Cleaning**<br>maj_threshold = 90%<br>mul_threshold_init = 90%<br>mul_threshold_final = 90%<br><br>**Additional Features**<br>*Root terms*<br>root_variable = **True**<br>root_after_pf = **True**<br><br>*Log terms*<br>log_variable = False<br>log_after_pf = False<br><br>*Polynomial features*<br>poly_on = **True**     | **30 Selected Features are:**<br>['Neighborhood Gr Liv Area', 'Overall Qual Gr Liv Area',<br>       'Overall Qual^2', 'Exter Qual Gr Liv Area',<br>       'Neighborhood 1st Flr SF', 'Overall Qual Garage Cars',<br>       'Gr Liv Area Kitchen Qual', 'Gr Liv Area Garage Cars',<br>       'Overall Qual 1st Flr SF', '1st Flr SF Kitchen Qual',<br>       'Total Bsmt SF Garage Cars', 'Neighborhood Fireplace Qu',<br>       'Neighborhood Garage Finish', 'Full Bath Kitchen Qual',<br>       'Overall Qual Full Bath', 'Foundation Gr Liv Area',<br>       'Exter Qual Fireplace Qu', 'MS Zoning Overall Qual',<br>       'Exter Qual Garage Type', 'Kitchen Qual Garage Type',<br>       'Exter Qual Full Bath', 'Heating QC Gr Liv Area',<br>       'Garage Type Garage Area', 'Kitchen Qual Garage Finish',<br>       'Gr Liv Area Garage Type', 'Overall Qual Garage Qual',<br>       'Fireplace Qu Garage Area', 'Gr Liv Area Garage Finish',<br>       'Overall Qual Garage Type', 'MS SubClass Kitchen Qual']                                                                                                                                | **Best model:**<br>- Lasso(alpha=1010.6)<br><br>**Validation set RMSE:**<br>- Validation set: 33,178.6 | **Actual RMSE from Kaggle**<br>- Private: 30,041.4<br>- Public: 28,955.5 |\n",
    "| 6         | **Data Cleaning**<br>maj_threshold = 90%<br>mul_threshold_init = 90%<br>mul_threshold_final = 90%<br><br>**Additional Features**<br>*Root terms*<br>root_variable = False<br>root_after_pf = False<br><br>*Log terms*<br>log_variable = **True**<br>log_after_pf = False<br><br>*Polynomial features*<br>poly_on = False           | **30 Selected Features are:**<br>['Overall Qual', 'Neighborhood', 'Exter Qual', 'Gr Liv Area',<br>       'Kitchen Qual', 'Bsmt Qual', 'Garage Area', 'Garage Cars',<br>       'Total Bsmt SF', '1st Flr SF', 'Year Built', 'Garage Finish',<br>       'Year Remod/Add', 'Fireplace Qu', 'Full Bath', 'Foundation',<br>       'TotRms AbvGrd', 'Garage Type', 'Mas Vnr Area', 'MS SubClass',<br>       'Fireplaces', 'Heating QC', 'Mas Vnr Type', 'Bsmt Exposure',<br>       'BsmtFin SF 1', 'Exterior 1st', 'BsmtFin Type 1', 'Exterior 2nd',<br>       'Sale Type', 'Lot Area_log']                                                                                                                                                                                                                                                                                                                                                                                                                                                                                                                                                                    | **Best model:**<br>- Ridge(alpha=91.2)<br><br>**Validation set RMSE:**<br>- Validation set: 36,094.0   | **Actual RMSE from Kaggle**<br>- Private: 32,645.5<br>- Public: 32,660.6 |\n",
    "| 7         | **Data Cleaning**<br>maj_threshold = 90%<br>mul_threshold_init = 90%<br>mul_threshold_final = 90%<br><br>**Additional Features**<br>*Root terms*<br>root_variable = False<br>root_after_pf = False<br><br>*Log terms*<br>log_variable = **True**<br>log_after_pf = False<br><br>*Polynomial features*<br>poly_on = **True**        | **30 Selected Features are:**<br>['Neighborhood Gr Liv Area', 'Overall Qual Lot Area_log',<br>       'Overall Qual Gr Liv Area', 'Exter Qual Gr Liv Area',<br>       'Neighborhood 1st Flr SF', 'Overall Qual Garage Cars',<br>       'Gr Liv Area Kitchen Qual', 'Gr Liv Area Garage Cars',<br>       'Overall Qual 1st Flr SF', '1st Flr SF Kitchen Qual',<br>       'Total Bsmt SF Garage Cars', 'Neighborhood Fireplace Qu',<br>       'Neighborhood Garage Finish', 'Bsmt Qual TotRms AbvGrd_log',<br>       'Overall Qual Full Bath', 'Foundation Gr Liv Area',<br>       'Exter Qual Fireplace Qu', 'MS Zoning Overall Qual',<br>       'Exter Qual Garage Type', 'Kitchen Qual Garage Type',<br>       'Heating QC Gr Liv Area', 'Garage Type Garage Area',<br>       'Kitchen Qual Garage Finish', 'Gr Liv Area Garage Type',<br>       '1st Flr SF_log Gr Liv Area_log', 'Overall Qual Garage Qual',<br>       'Fireplace Qu Garage Area', 'Gr Liv Area Garage Finish',<br>       'Overall Qual Garage Type', 'MS SubClass Kitchen Qual']                                                                                                      | **Best model:**<br>- Lasso(alpha=1288.5)<br><br>**Validation set RMSE:**<br>- Validation set: 32,563.2 | **Actual RMSE from Kaggle**<br>- Private: 30,073.7<br>- Public: 29,436.8 |\n",
    "| 8         | **Data Cleaning**<br>maj_threshold = 90%<br>mul_threshold_init = 90%<br>mul_threshold_final = 90%<br><br>**Additional Features**<br>*Root terms*<br>root_variable = False<br>root_after_pf = False<br><br>*Log terms*<br>log_variable = **True**<br>log_after_pf = **True**<br><br>*Polynomial features*<br>poly_on = <br>**True** | **30 Selected Features are:**<br>['Neighborhood Gr Liv Area', 'Overall Qual Gr Liv Area',<br>       'Overall Qual^2', 'Exter Qual Gr Liv Area',<br>       'Neighborhood 1st Flr SF', 'Overall Qual Garage Cars',<br>       'Gr Liv Area Kitchen Qual', 'Gr Liv Area Garage Cars',<br>       'Overall Qual 1st Flr SF', '1st Flr SF Kitchen Qual',<br>       'Total Bsmt SF Garage Cars', 'Neighborhood Fireplace Qu',<br>       'Neighborhood Garage Finish', 'Full Bath Kitchen Qual',<br>       'Overall Qual Full Bath', 'Foundation Gr Liv Area',<br>       'Exter Qual Fireplace Qu', 'MS Zoning Overall Qual',<br>       'Exter Qual Garage Type', 'Kitchen Qual Garage Type',<br>       'Exter Qual Full Bath', 'Heating QC Gr Liv Area',<br>       'Garage Type Garage Area', 'Kitchen Qual Garage Finish',<br>       'Gr Liv Area Garage Type', 'Overall Qual Garage Qual',<br>       'Fireplace Qu Garage Area', 'Gr Liv Area Garage Finish',<br>       'Overall Qual Garage Type', 'MS SubClass Kitchen Qual']                                                                                                                                | **Best model:**<br>- Lasso(alpha=1010.6)<br><br>**Validation set RMSE:**<br>- Validation set: 33,178.6 | **Actual RMSE from Kaggle**<br>- Private: 29,367.2<br>- Public: 28,887.5 |\n",
    "|           |                                                                                                                                                                                                                                                                                                                                    |                                                                                                                                                                                                                                                                                                                                                                                                                                                                                                                                                                                                                                                                                                                                                                                                                                                                                                                                                                                                                                                                                                                                                          |                                                                                                        |                                                                          |"
   ]
  },
  {
   "cell_type": "code",
   "execution_count": null,
   "id": "whole-characterization",
   "metadata": {},
   "outputs": [],
   "source": [
    "'Neighborhood Gr Liv Area', 'Neighborhood Roof Style',\n",
    "       'Mas Vnr Type Gr Liv Area', 'Neighborhood Bsmt Exposure',\n",
    "       'Neighborhood BsmtFin SF 1', 'Neighborhood Mas Vnr Area',\n",
    "       'Land Contour Neighborhood', 'Land Contour Garage Area',\n",
    "       'Roof Style Fireplace Qu', 'Lot Frontage Full Bath',\n",
    "       'Lot Area Neighborhood', 'Overall Qual Overall Cond',\n",
    "       'Neighborhood Open Porch SF', 'Neighborhood Mo Sold',\n",
    "       'Lot Frontage Garage Type', 'Lot Frontage Exterior 1st',\n",
    "       'Lot Frontage Heating QC', 'Neighborhood Wood Deck SF',\n",
    "       'Neighborhood Bsmt Full Bath', 'Land Contour Fireplace Qu',\n",
    "       'Lot Config Neighborhood', 'Lot Frontage BsmtFin Type 1',\n",
    "       'Exter Qual Mo Sold', 'index Neighborhood',\n",
    "       'Condition 1 Heating QC', 'Neighborhood Bsmt Unf SF',\n",
    "       'PID Exter Qual', 'Overall Cond Bsmt Qual',\n",
    "       'Mas Vnr Area Bsmt Full Bath', 'Garage Area Mo Sold',\n",
    "       'Neighborhood Half Bath', 'Lot Shape Kitchen Qual',\n",
    "       'Land Contour Mas Vnr Type', 'Land Contour BsmtFin SF 1',\n",
    "       'Mas Vnr Area Bsmt Unf SF', 'Condition 1 Exterior 1st',\n",
    "       'Lot Area Mas Vnr Type', 'Bsmt Unf SF Fireplaces',\n",
    "       'Garage Finish Mo Sold', 'Lot Frontage Sale Type']"
   ]
  },
  {
   "cell_type": "code",
   "execution_count": null,
   "id": "pacific-recording",
   "metadata": {},
   "outputs": [],
   "source": []
  },
  {
   "cell_type": "code",
   "execution_count": null,
   "id": "underlying-perception",
   "metadata": {},
   "outputs": [],
   "source": [
    "'Electrical', 'Garage Finish', 'Garage Qual', 'Garage Cond'"
   ]
  },
  {
   "cell_type": "code",
   "execution_count": null,
   "id": "ruled-proxy",
   "metadata": {},
   "outputs": [],
   "source": []
  },
  {
   "cell_type": "code",
   "execution_count": null,
   "id": "surface-arrow",
   "metadata": {},
   "outputs": [],
   "source": []
  },
  {
   "cell_type": "code",
   "execution_count": null,
   "id": "collectible-enlargement",
   "metadata": {},
   "outputs": [],
   "source": [
    "# For Categorical Variables\n",
    "\n",
    "def categorical_features(df, thresh):\n",
    "    lst=[]\n",
    "    for col in df.columns:\n",
    "        if ((df[col].dtype == 'object') | (df[col].dtype == 'int64')) & (len(df[col].unique())<=thresh):\n",
    "            lst.append(col)\n",
    "    return lst\n",
    "\n",
    "cat_features = categorical_features(ames, 30)\n",
    "np.array(cat_features)"
   ]
  },
  {
   "cell_type": "code",
   "execution_count": null,
   "id": "functional-spain",
   "metadata": {},
   "outputs": [],
   "source": [
    "def countplotter(df, y, ax):\n",
    "    sns.countplot(\n",
    "        data=ames,\n",
    "        y=y,\n",
    "        order = ames.groupby(y)[['SalePrice']].mean().sort_values(by='SalePrice').index,\n",
    "        ax=ax,\n",
    "        edgecolor=sns.color_palette(\"dark:black\", 3)\n",
    "    )\n",
    "    \n",
    "def boxplotter(df, x, y, ax):\n",
    "    sns.boxplot(\n",
    "        data=ames,\n",
    "        x = x,\n",
    "        y = y,\n",
    "        order = ames.groupby(y)[[x]].mean().sort_values(by=x).index,\n",
    "        orient='h',\n",
    "        ax=ax\n",
    "    )\n",
    "    ax.set_xlabel(x)\n",
    "    \n",
    "def categorical_plot(df, cat_feat):\n",
    "    for col in cat_feat:\n",
    "        number_of_cat = len(df[col].unique())\n",
    "        graph_height = int(number_of_cat/2)\n",
    "        fig, ax = plt.subplots(nrows=1,\n",
    "                               ncols=2,\n",
    "                               figsize=(14, graph_height),\n",
    "                               sharey=True,\n",
    "                              gridspec_kw={'width_ratios': [3,1]} \n",
    "                              );\n",
    "        ax=ax.ravel();\n",
    "        boxplotter(df,'SalePrice',col, ax[0]);\n",
    "        countplotter(df, col, ax[1]);\n",
    "        plt.rcParams.update({'figure.max_open_warning': 0});"
   ]
  },
  {
   "cell_type": "code",
   "execution_count": null,
   "id": "sunrise-blair",
   "metadata": {},
   "outputs": [],
   "source": [
    "### For Numerical Variable\n",
    "\n",
    "num_features = [col for col in ames.columns if col not in cat_features]\n",
    "np.array(num_features)"
   ]
  },
  {
   "cell_type": "code",
   "execution_count": null,
   "id": "prostate-athletics",
   "metadata": {},
   "outputs": [],
   "source": [
    "def scatter_plot(df, num_feat):\n",
    "    for col in num_feat:\n",
    "        fig, ax = plt.subplots(nrows=1, figsize=(6, 6));\n",
    "        sns.scatterplot(\n",
    "        )"
   ]
  },
  {
   "cell_type": "code",
   "execution_count": null,
   "id": "stunning-petite",
   "metadata": {},
   "outputs": [],
   "source": [
    "ames[['PID','SalePrice']].corr().iloc[1,0]"
   ]
  },
  {
   "cell_type": "code",
   "execution_count": null,
   "id": "australian-transition",
   "metadata": {},
   "outputs": [],
   "source": [
    "corr_dic = dict()\n",
    "for col in num_features:\n",
    "    if col != 'SalePrice':\n",
    "        corr_dic[col]= round(abs(ames[[col,'SalePrice']].corr().iloc[1,0]),3)"
   ]
  },
  {
   "cell_type": "code",
   "execution_count": null,
   "id": "iraqi-brick",
   "metadata": {},
   "outputs": [],
   "source": [
    "corr = pd.DataFrame(corr_dic.items(), columns=['Numerical Variables','SalePrice Correlation (abs)'])\n",
    "corr.sort_values(by='SalePrice Correlation (abs)')"
   ]
  },
  {
   "cell_type": "code",
   "execution_count": null,
   "id": "curious-administrator",
   "metadata": {},
   "outputs": [],
   "source": []
  },
  {
   "cell_type": "code",
   "execution_count": null,
   "id": "fitting-acquisition",
   "metadata": {},
   "outputs": [],
   "source": []
  },
  {
   "cell_type": "code",
   "execution_count": null,
   "id": "received-liquid",
   "metadata": {},
   "outputs": [],
   "source": []
  }
 ],
 "metadata": {
  "kernelspec": {
   "display_name": "Python 3",
   "language": "python",
   "name": "python3"
  },
  "language_info": {
   "codemirror_mode": {
    "name": "ipython",
    "version": 3
   },
   "file_extension": ".py",
   "mimetype": "text/x-python",
   "name": "python",
   "nbconvert_exporter": "python",
   "pygments_lexer": "ipython3",
   "version": "3.8.8"
  },
  "toc": {
   "base_numbering": 1,
   "nav_menu": {},
   "number_sections": true,
   "sideBar": true,
   "skip_h1_title": false,
   "title_cell": "Table of Contents",
   "title_sidebar": "Contents",
   "toc_cell": false,
   "toc_position": {},
   "toc_section_display": true,
   "toc_window_display": false
  }
 },
 "nbformat": 4,
 "nbformat_minor": 5
}
